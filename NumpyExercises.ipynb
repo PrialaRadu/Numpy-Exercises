{
 "cells": [
  {
   "cell_type": "markdown",
   "id": "a82b08ef",
   "metadata": {},
   "source": [
    "Exercise 1:\n",
    "\n",
    "Create a 5x5 matrix with random integers from a normal distribution with mean 0 and standard deviation 1.\n",
    "Exercise 2:\n",
    "\n",
    "Given a 2D array, calculate the sum of all columns, and then find the column with the maximum sum.\n",
    "Exercise 3:\n",
    "\n",
    "Create a random 100x100 matrix and compute the mean of each row without using any loops.\n",
    "Exercise 4:\n",
    "\n",
    "Create a 3x3 matrix with random integers and normalize each row to have a sum of 1.\n",
    "Exercise 5:\n",
    "\n",
    "Given a 1D array, remove all elements between the 25th and 75th percentiles.\n",
    "Exercise 6:\n",
    "\n",
    "Create a 4x4 matrix with a checkerboard pattern of 0s and 1s (Hint: use np.tile).\n",
    "Exercise 7:\n",
    "\n",
    "Implement the matrix multiplication of two 3x3 matrices without using the np.dot or @ operator.\n",
    "Exercise 8:\n",
    "\n",
    "Given a 2D array, calculate the Euclidean distance between each pair of rows.\n",
    "Exercise 9:\n",
    "\n",
    "Create a 5x5 matrix with values ranging from 1 to 25, and then replace all even elements with the square root of their values.\n",
    "Exercise 10:\n",
    "\n",
    "Implement a function to find the local maxima (peaks) in a 1D array. A local maximum is an element greater than its neighbors.\n",
    "Exercise 11:\n",
    "\n",
    "Generate a 3D array with dimensions (5, 5, 5) and compute the sum along the third axis.\n",
    "Exercise 12:\n",
    "\n",
    "Given a 2D array, replace all negative values with the absolute values.\n",
    "Exercise 13:\n",
    "\n",
    "Implement a function to calculate the moving average over a given window size for a 1D array.\n",
    "Exercise 14:\n",
    "\n",
    "Create a 6x6 matrix with a pattern such that each element is the sum of its indices (i, j) and its neighbors (i-1, j-1), (i-1, j), (i, j-1).\n",
    "Exercise 15:\n",
    "\n",
    "Given a 2D array, find the most frequent value in each column.\n",
    "Exercise 16:\n",
    "\n",
    "Create a 10x10 matrix with random integers and replace all values greater than 5 and less than 10 with the median value.\n",
    "Exercise 17:\n",
    "\n",
    "Implement a function to compute the cross-correlation of two 1D arrays.\n",
    "Exercise 18:\n",
    "\n",
    "Create a 2D array with values from a Poisson distribution with a given lambda parameter.\n",
    "Exercise 19:\n",
    "\n",
    "Given two arrays, find the set exclusive-or of their elements (symmetric difference).\n",
    "Exercise 20:\n",
    "\n",
    "Create a 5x5 matrix with values 1, 2, 3, 4 just below the diagonal.\n",
    "Exercise 21:\n",
    "\n",
    "Given a 2D array, find the indices of the maximum and minimum values along each row.\n",
    "Exercise 22:\n",
    "\n",
    "Create a random 10x10 matrix and compute the matrix rank.\n",
    "Exercise 23:\n",
    "\n",
    "Given a 1D array, find all the peaks. A peak is an element which is greater than or equal to its neighbors.\n",
    "Exercise 24:\n",
    "\n",
    "Implement a function to calculate the 2D convolution of a small matrix on a larger matrix.\n",
    "Exercise 25:\n",
    "\n",
    "Create a 5x5 matrix with row values ranging from 0 to 4 and column values ranging from 5 to 9."
   ]
  },
  {
   "cell_type": "markdown",
   "id": "46453954",
   "metadata": {},
   "source": [
    "25 Exercises for NumPy Python library"
   ]
  },
  {
   "cell_type": "code",
   "execution_count": 63,
   "id": "cd0f65f5",
   "metadata": {},
   "outputs": [],
   "source": [
    "import numpy as np"
   ]
  },
  {
   "cell_type": "code",
   "execution_count": 84,
   "id": "7e7863cc",
   "metadata": {
    "scrolled": true
   },
   "outputs": [
    {
     "name": "stdout",
     "output_type": "stream",
     "text": [
      "[[-2.46572787 -0.1583444  -0.23228772 -1.52876404  0.19184019]\n",
      " [-1.20727756  1.01382878 -0.55244665  0.29352984  0.23455846]\n",
      " [ 1.17650631 -0.00675845 -1.15742021  0.35231281  0.29633542]\n",
      " [ 0.22791841  0.12206842 -1.15203954 -0.73711556 -0.76789093]\n",
      " [ 0.53040704 -0.76060878 -0.16554232 -0.46405683  0.96943686]]\n"
     ]
    }
   ],
   "source": [
    "\"\"\"\n",
    "Exercise 1:\n",
    "Create a 5x5 matrix with random integers from a normal distribution with mean 0 and standard\n",
    "deviation 1.\n",
    "\"\"\"\n",
    "\n",
    "# Random 5x5 matrix\n",
    "arr = np.random.normal(loc=0, scale=1.0, size=(5,5))  \n",
    "# loc = mean of the distribution, scale = standart deviation\n",
    "\n",
    "print(arr)"
   ]
  },
  {
   "cell_type": "code",
   "execution_count": 161,
   "id": "9eb5a901",
   "metadata": {},
   "outputs": [
    {
     "name": "stdout",
     "output_type": "stream",
     "text": [
      "Index of the column with sum max: 3\n"
     ]
    }
   ],
   "source": [
    "\"\"\"\n",
    "Exercise 2:\n",
    "Given a 2D array, calculate the sum of all columns, and then find the column with the maximum sum.\n",
    "\"\"\"\n",
    "\n",
    "# Random 5x5 matrix with random int values from [0, 9] \n",
    "arr = np.random.randint(10, size=(5, 5)) \n",
    "sum_columns = np.sum(arr, axis=0)  # axis=0 means columns, axis=1 means rows\n",
    "\n",
    "print(f\"Index of the column with sum max: {np.argmax(sum_columns)}\")"
   ]
  },
  {
   "cell_type": "code",
   "execution_count": 175,
   "id": "20065baa",
   "metadata": {
    "scrolled": true
   },
   "outputs": [
    {
     "name": "stdout",
     "output_type": "stream",
     "text": [
      "[1.96 1.89 2.   2.2  1.88 1.76 1.9  2.29 2.02 1.91 1.98 2.01 2.04 2.\n",
      " 1.86 2.18 1.92 1.94 2.36 2.23 1.63 2.16 1.77 2.22 2.13 2.21 1.92 1.88\n",
      " 1.96 2.12 1.91 2.   1.97 1.94 1.76 1.99 1.91 1.74 1.74 1.94 2.03 2.23\n",
      " 1.88 2.24 2.12 2.13 2.04 2.02 2.16 1.99 2.14 2.27 2.02 1.93 1.82 2.\n",
      " 2.05 1.85 1.85 2.05 1.81 1.91 1.92 1.8  1.62 2.03 1.88 2.15 2.3  2.1\n",
      " 1.85 2.09 2.17 2.02 2.15 1.95 1.77 1.92 2.   1.99 2.1  2.15 2.02 2.01\n",
      " 2.13 2.07 1.89 2.07 2.12 2.09 2.03 1.78 1.98 2.09 2.15 2.03 2.03 1.84\n",
      " 1.82 2.28]\n"
     ]
    }
   ],
   "source": [
    "\"\"\"\n",
    "Exercise 3:\n",
    "Create a random 100x100 matrix and compute the mean of each row without using any loops.\n",
    "\"\"\"\n",
    "\n",
    "# Random 100x100 matrix with int values from [0, 4]\n",
    "arr = np.random.randint(5, size=(100, 100))  \n",
    "mean_rows = np.mean(arr, axis=1)  # mean values for every row\n",
    "\n",
    "print(mean_rows)"
   ]
  },
  {
   "cell_type": "code",
   "execution_count": 457,
   "id": "ef77440c",
   "metadata": {},
   "outputs": [
    {
     "name": "stdout",
     "output_type": "stream",
     "text": [
      "[[2 7 3]\n",
      " [3 1 2]\n",
      " [2 7 2]]\n",
      "[[0.16666667 0.58333333 0.25      ]\n",
      " [0.5        0.16666667 0.33333333]\n",
      " [0.18181818 0.63636364 0.18181818]]\n"
     ]
    }
   ],
   "source": [
    "\"\"\"\n",
    "Exercise 4:\n",
    "Create a 3x3 matrix with random integers and normalize each row to have a sum of 1.\n",
    "\"\"\"\n",
    "\n",
    "# Random 3x3 matrix with int values from [0, 9]\n",
    "arr = np.random.randint(10, size=(3, 3))  \n",
    "\n",
    "#  Divide each element (in the row) by the sum of all elements in that row, resulting in a sum = 1\n",
    "norm_arr = arr / arr.sum(axis=1, keepdims=True)\n",
    "\n",
    "print(norm_arr)"
   ]
  },
  {
   "cell_type": "code",
   "execution_count": 441,
   "id": "44bb9c57",
   "metadata": {},
   "outputs": [
    {
     "name": "stdout",
     "output_type": "stream",
     "text": [
      "[4 9 0 2 3 7 1 8 2 5 3 4 8 6 2 1 0]\n"
     ]
    }
   ],
   "source": [
    "\"\"\"\n",
    "Exercise 5:\n",
    "Given a 1D array, remove all elements between the 25th and 75th percentiles.\n",
    "\"\"\"\n",
    "\n",
    "# Random 1D array with size = 36, int values between [1, 9]\n",
    "arr = np.random.randint(10, size=(36))\n",
    "\n",
    "# Start index and end index\n",
    "start = int(0.25 * len(arr))\n",
    "end = int(0.75 * len(arr))\n",
    "\n",
    "# Boolean mask to keep the elements outside the specified range\n",
    "to_keep = (np.arange(len(arr)) < start) | (np.arange(len(arr)) > end)\n",
    "\n",
    "# New array with the selected elements\n",
    "new_arr = arr[to_keep]\n",
    "\n",
    "print(new_arr)"
   ]
  },
  {
   "cell_type": "code",
   "execution_count": 280,
   "id": "7d8ea50c",
   "metadata": {},
   "outputs": [
    {
     "name": "stdout",
     "output_type": "stream",
     "text": [
      "[[0 1 0 1]\n",
      " [1 0 1 0]\n",
      " [0 1 0 1]\n",
      " [1 0 1 0]]\n"
     ]
    }
   ],
   "source": [
    "\"\"\"\n",
    "Exercise 6:\n",
    "Create a 4x4 matrix with a checkerboard pattern of 0s and 1s (with np.tile).\n",
    "\"\"\"\n",
    "\n",
    "# Array with 0s and 1s alternating, using np.tile to repeat the pattern.\n",
    "arr = np.tile([[0, 1], [1, 0]], (2, 2))\n",
    "\n",
    "print(arr)"
   ]
  },
  {
   "cell_type": "code",
   "execution_count": 300,
   "id": "6875ab43",
   "metadata": {},
   "outputs": [
    {
     "name": "stdout",
     "output_type": "stream",
     "text": [
      "[[ 90  96 102]\n",
      " [216 231 246]\n",
      " [342 366 390]]\n"
     ]
    }
   ],
   "source": [
    "\"\"\"\n",
    "Exercise 7:\n",
    "Implement the matrix multiplication of two 3x3 matrices without using the np.dot or @ operator.\n",
    "\"\"\"\n",
    "\n",
    "# Matrix 1 with values from [1, 9], matrix 2 with values from [11, 19]\n",
    "arr1 = np.arange(1, 10).reshape(3, 3)\n",
    "arr2 = np.arange(11, 20).reshape(3, 3)\n",
    "\n",
    "# Initialize an array for the result\n",
    "main_arr = np.zeros((3, 3), dtype=int)\n",
    "\n",
    "for i in range(3):  # Iterate over rows\n",
    "    for j in range(3):  # Iterate over columns\n",
    "        for k in range(3): # Iterate over columns in matrix 1 and rows in matrix 2\n",
    "            main_arr[i, j] += arr1[i, k] * arr2[k, j]\n",
    "\n",
    "print(main_arr)"
   ]
  },
  {
   "cell_type": "code",
   "execution_count": 386,
   "id": "b7595621",
   "metadata": {},
   "outputs": [
    {
     "name": "stdout",
     "output_type": "stream",
     "text": [
      "The Euclidean distance between row 2 and row 1 is 7.615773105863909.\n",
      "The Euclidean distance between row 3 and row 2 is 5.0990195135927845.\n",
      "The Euclidean distance between row 4 and row 3 is 6.082762530298219.\n"
     ]
    }
   ],
   "source": [
    "\"\"\"\n",
    "Exercise 8:\n",
    "Given a 2D array, calculate the Euclidean distance between each pair of rows.\n",
    "\"\"\"\n",
    "\n",
    "# Random 4x4 matrix with int values between [1, 10]\n",
    "arr = np.random.randint(1, 11, size=(4,4))\n",
    "\n",
    "# Using a for loop to iterate through row pairs, using numpy.linalg.norm to calculate Eucl. dist.\n",
    "for row in range(3):\n",
    "    eucl_distance = np.linalg.norm(arr[row + 1] - arr[row])\n",
    "    print(f\"The Euclidean distance between row {row + 2} and row {row + 1} is {eucl_distance}.\")"
   ]
  },
  {
   "cell_type": "code",
   "execution_count": 400,
   "id": "e5ca8103",
   "metadata": {},
   "outputs": [
    {
     "name": "stdout",
     "output_type": "stream",
     "text": [
      "[[ 1.          1.41421356  3.          2.          5.        ]\n",
      " [ 2.44948974  7.          2.82842712  9.          3.16227766]\n",
      " [11.          3.46410162 13.          3.74165739 15.        ]\n",
      " [ 4.         17.          4.24264069 19.          4.47213595]\n",
      " [21.          4.69041576 23.          4.89897949 25.        ]]\n"
     ]
    }
   ],
   "source": [
    "\"\"\"\n",
    "Exercise 9:\n",
    "Create a 5x5 matrix with values ranging from 1 to 25, and then replace all even elements \n",
    "with the square root of their values.\n",
    "\"\"\"\n",
    "\n",
    "# 5x5 matrix with int values from [1, 25]\n",
    "arr = np.arange(1, 26).reshape(5, 5)\n",
    "\n",
    "# New matrix with even values equal to their square root.\n",
    "new_arr = np.where(arr % 2 == 0, np.sqrt(arr), arr)\n",
    "\n",
    "print(new_arr)"
   ]
  },
  {
   "cell_type": "code",
   "execution_count": 532,
   "id": "4811b916",
   "metadata": {},
   "outputs": [
    {
     "name": "stdout",
     "output_type": "stream",
     "text": [
      "[ 9  6  5 10  9]\n"
     ]
    }
   ],
   "source": [
    "\"\"\"\n",
    "Exercise 10:\n",
    "Implement a function to find the local maxima (peaks) in a 1D array. \n",
    "A local maximum is an element greater than its neighbors.\n",
    "\"\"\"\n",
    "\n",
    "# Random array with values from [1, 10] and size = 20\n",
    "arr = np.random.randint(1, 11, 20)\n",
    "\n",
    "# Extract the indices of peaks\n",
    "peaks_indices = np.where((arr[1:-1] > arr[:-2]) & (arr[1:-1] > arr[2:]))[0] + 1\n",
    "\n",
    "# Extract the values coresponding to their indices\n",
    "peaks_values = arr[peaks_indices]\n",
    "\n",
    "print(peaks_values)"
   ]
  },
  {
   "cell_type": "code",
   "execution_count": 556,
   "id": "4bb35133",
   "metadata": {},
   "outputs": [
    {
     "name": "stdout",
     "output_type": "stream",
     "text": [
      "[[34 17 27 25 39]\n",
      " [29 26 30 31 20]\n",
      " [23 41 43 19 30]\n",
      " [28 32 28 38 35]\n",
      " [27 23 28 35 23]]\n"
     ]
    }
   ],
   "source": [
    "\"\"\"\n",
    "Exercise 11:\n",
    "Generate a 3D array with dimensions (5, 5, 5) and compute the sum along the third axis.\n",
    "\"\"\"\n",
    "\n",
    "# Random 5x5x5 matrix with int values between [1, 10]\n",
    "arr = np.random.randint(1, 11, size=(5, 5, 5))\n",
    "\n",
    "# The sum along the third axis\n",
    "z_sums = np.sum(arr, axis=2)  # axis=2 means z axis\n",
    "\n",
    "print(z_sums)"
   ]
  },
  {
   "cell_type": "code",
   "execution_count": 597,
   "id": "e5ed86e9",
   "metadata": {},
   "outputs": [
    {
     "name": "stdout",
     "output_type": "stream",
     "text": [
      "[[ 1  6  7  6]\n",
      " [ 2 10  5 10]\n",
      " [ 2  1  8  1]\n",
      " [ 4  9 10  2]]\n"
     ]
    }
   ],
   "source": [
    "\"\"\"\n",
    "Exercise 12:\n",
    "Given a 2D array, replace all negative values with the absolute values.\n",
    "\"\"\"\n",
    "\n",
    "# Random 4x4 matrix with int values from [-10, 10]\n",
    "arr = np.random.randint(-10, 11, size=(4, 4))\n",
    "\n",
    "# New matrix that replaces all negative values with their absolute values\n",
    "new_arr = np.where(arr < 0, -arr, arr)\n",
    "\n",
    "print(new_arr)"
   ]
  },
  {
   "cell_type": "code",
   "execution_count": 647,
   "id": "649574b2",
   "metadata": {},
   "outputs": [
    {
     "name": "stdout",
     "output_type": "stream",
     "text": [
      "[5.8 4.6 4.4 4.4 4.4 3.8 4.2 5.4 4.2 4.4 4.4 5.  3.8 4.4 5.8 5. ]\n"
     ]
    }
   ],
   "source": [
    "\"\"\"\n",
    "Exercise 13:\n",
    "Implement a function to calculate the moving average over a given window size for a 1D array.\n",
    "\"\"\"\n",
    "\n",
    "# Random array with values between [1, 10] and size = 20\n",
    "arr = np.random.randint(1, 11, size=20)\n",
    "\n",
    "# Calculates the cumulative sum of the entire array\n",
    "cumulative_sum = np.cumsum(arr)\n",
    "\n",
    "# Example of window size\n",
    "size = 5\n",
    "\n",
    "# Calculates the sum of elements withing the window\n",
    "cumulative_sum[size:] = cumulative_sum[size:] - cumulative_sum[:-size]\n",
    "\n",
    "# Calculates the moving average by taking the sum and dividing it by the size of the window\n",
    "result = cumulative_sum[size - 1:] / size\n",
    "\n",
    "print(result)"
   ]
  },
  {
   "cell_type": "code",
   "execution_count": null,
   "id": "79baf679",
   "metadata": {},
   "outputs": [],
   "source": [
    "# Need to do exercises 14-25..."
   ]
  }
 ],
 "metadata": {
  "kernelspec": {
   "display_name": "Python 3 (ipykernel)",
   "language": "python",
   "name": "python3"
  },
  "language_info": {
   "codemirror_mode": {
    "name": "ipython",
    "version": 3
   },
   "file_extension": ".py",
   "mimetype": "text/x-python",
   "name": "python",
   "nbconvert_exporter": "python",
   "pygments_lexer": "ipython3",
   "version": "3.11.5"
  }
 },
 "nbformat": 4,
 "nbformat_minor": 5
}
